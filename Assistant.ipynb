{
 "cells": [
  {
   "cell_type": "code",
   "execution_count": 1,
   "metadata": {},
   "outputs": [
    {
     "name": "stdout",
     "output_type": "stream",
     "text": [
      "Listening for command...\n",
      "result2:\n",
      "{   'alternative': [   {'confidence': 0.89394319, 'transcript': 'hello my'},\n",
      "                       {'transcript': 'hello Mai'},\n",
      "                       {'transcript': 'hallo my'}],\n",
      "    'final': True}\n",
      "You said: hello my\n"
     ]
    }
   ],
   "source": [
    "import speech_recognition as sr\n",
    "import pyttsx3\n",
    "import os\n",
    "\n",
    "# Set up the speech recognition and text-to-speech engines\n",
    "r = sr.Recognizer()\n",
    "engine = pyttsx3.init()\n",
    "\n",
    "# Create a function to listen for a voice command and convert it to text\n",
    "def listen_for_command():\n",
    "  with sr.Microphone() as source:\n",
    "    print(\"Listening for command...\")\n",
    "    audio = r.listen(source)\n",
    "  try:\n",
    "    command = r.recognize_google(audio)\n",
    "    print(f\"You said: {command}\")\n",
    "  except sr.UnknownValueError:\n",
    "    print(\"Sorry, I didn't understand that.\")\n",
    "  except sr.RequestError as e:\n",
    "    print(f\"Error: {e}\")\n",
    "  return command\n",
    "\n",
    "# Listen for a voice command and perform the desired file operation\n",
    "command = listen_for_command()\n",
    "if \"rename\" in command:\n",
    "  # Extract the file name and new name from the command\n",
    "  file_name, new_name = command.split(\"rename\")[1].strip().split(\"to\")\n",
    "  try:\n",
    "    os.rename(file_name, new_name)\n",
    "    engine.say(f\"Successfully renamed {file_name} to {new_name}.\")\n",
    "  except OSError:\n",
    "    engine.say(f\"Unable to rename {file_name}.\")\n",
    "elif \"delete\" in command:\n",
    "  # Extract the file name from the command\n",
    "  file_name = command.split(\"delete\")[1].strip()\n",
    "  try:\n",
    "    os.remove(file_name)\n",
    "    engine.say(f\"Successfully deleted {file_name}.\")\n",
    "  except OSError:\n",
    "    engine.say(f\"Unable to delete {file_name}.\")\n",
    "else:\n",
    "  engine.say(\"Sorry, I didn't understand that command.\")\n",
    "\n",
    "# Speak the response\n",
    "engine.runAndWait()\n"
   ]
  },
  {
   "cell_type": "code",
   "execution_count": 2,
   "metadata": {},
   "outputs": [],
   "source": [
    "def listen_for_command():\n",
    "  with sr.Microphone() as source:\n",
    "    print(\"Listening for command...\")\n",
    "    audio = r.listen(source)\n",
    "  try:\n",
    "    command = r.recognize_google(audio)\n",
    "    print(f\"You said: {command}\")\n",
    "  except sr.UnknownValueError:\n",
    "    print(\"Sorry, I didn't understand that.\")\n",
    "  except sr.RequestError as e:\n",
    "    print(f\"Error: {e}\")\n",
    "  return command"
   ]
  },
  {
   "cell_type": "code",
   "execution_count": 3,
   "metadata": {},
   "outputs": [
    {
     "name": "stdout",
     "output_type": "stream",
     "text": [
      "Listening for command...\n",
      "result2:\n",
      "{   'alternative': [   {   'confidence': 0.95467675,\n",
      "                           'transcript': 'hello man how are you'},\n",
      "                       {'transcript': 'hello madam how are you'}],\n",
      "    'final': True}\n",
      "You said: hello man how are you\n"
     ]
    },
    {
     "ename": "SystemExit",
     "evalue": "0",
     "output_type": "error",
     "traceback": [
      "An exception has occurred, use %tb to see the full traceback.\n",
      "\u001b[0;31mSystemExit\u001b[0m\u001b[0;31m:\u001b[0m 0\n"
     ]
    },
    {
     "name": "stderr",
     "output_type": "stream",
     "text": [
      "/Users/dnyanesh/Documents/study/study_code/Personal_Assistant/venv/lib/python3.10/site-packages/IPython/core/interactiveshell.py:3441: UserWarning: To exit: use 'exit', 'quit', or Ctrl-D.\n",
      "  warn(\"To exit: use 'exit', 'quit', or Ctrl-D.\", stacklevel=1)\n"
     ]
    }
   ],
   "source": [
    "import sys\n",
    "from PyQt5.QtWidgets import QApplication, QWidget, QLabel, QPushButton\n",
    "\n",
    "app = QApplication(sys.argv)\n",
    "window = QWidget()\n",
    "window.setWindowTitle('My PyQt App')\n",
    "window.setGeometry(100, 100, 300, 200)\n",
    "\n",
    "label = QLabel('Hello, PyQt!', parent=window)\n",
    "label.move(100, 50)\n",
    "\n",
    "button = QPushButton('Click me', parent=window)\n",
    "button.move(100, 100)\n",
    "button.clicked.connect(listen_for_command)\n",
    "\n",
    "\n",
    "window.show()\n",
    "sys.exit(app.exec_())\n"
   ]
  },
  {
   "cell_type": "code",
   "execution_count": 2,
   "metadata": {},
   "outputs": [
    {
     "ename": "UnboundLocalError",
     "evalue": "local variable 'df' referenced before assignment",
     "output_type": "error",
     "traceback": [
      "\u001b[0;31m---------------------------------------------------------------------------\u001b[0m",
      "\u001b[0;31mUnboundLocalError\u001b[0m                         Traceback (most recent call last)",
      "Cell \u001b[0;32mIn[2], line 45\u001b[0m, in \u001b[0;36mon_enter_pressed\u001b[0;34m()\u001b[0m\n\u001b[1;32m     42\u001b[0m input_field\u001b[38;5;241m.\u001b[39mclear()\n\u001b[1;32m     44\u001b[0m \u001b[38;5;66;03m# Process the command and get the result\u001b[39;00m\n\u001b[0;32m---> 45\u001b[0m result \u001b[38;5;241m=\u001b[39m \u001b[43mprocess_command\u001b[49m\u001b[43m(\u001b[49m\u001b[43mcommand\u001b[49m\u001b[43m)\u001b[49m\n\u001b[1;32m     47\u001b[0m \u001b[38;5;66;03m# Add the result to the output field\u001b[39;00m\n\u001b[1;32m     48\u001b[0m output_field\u001b[38;5;241m.\u001b[39mappend(result)\n",
      "Cell \u001b[0;32mIn[2], line 21\u001b[0m, in \u001b[0;36mprocess_command\u001b[0;34m(command)\u001b[0m\n\u001b[1;32m     19\u001b[0m         \u001b[38;5;28;01mreturn\u001b[39;00m \u001b[38;5;124m'\u001b[39m\u001b[38;5;124mError: Unable to load CSV file\u001b[39m\u001b[38;5;124m'\u001b[39m\n\u001b[1;32m     20\u001b[0m \u001b[38;5;28;01melif\u001b[39;00m words[\u001b[38;5;241m0\u001b[39m] \u001b[38;5;241m==\u001b[39m \u001b[38;5;124m'\u001b[39m\u001b[38;5;124mshow\u001b[39m\u001b[38;5;124m'\u001b[39m:\n\u001b[0;32m---> 21\u001b[0m     \u001b[38;5;28;01mreturn\u001b[39;00m \u001b[43mdf\u001b[49m\n\u001b[1;32m     22\u001b[0m \u001b[38;5;28;01melif\u001b[39;00m words[\u001b[38;5;241m0\u001b[39m] \u001b[38;5;241m==\u001b[39m \u001b[38;5;124m'\u001b[39m\u001b[38;5;124mplot\u001b[39m\u001b[38;5;124m'\u001b[39m:\n\u001b[1;32m     23\u001b[0m     \u001b[38;5;66;03m# Plot a column from the loaded data\u001b[39;00m\n\u001b[1;32m     24\u001b[0m     \u001b[38;5;28;01mif\u001b[39;00m \u001b[38;5;28mlen\u001b[39m(words) \u001b[38;5;241m<\u001b[39m \u001b[38;5;241m3\u001b[39m:\n",
      "\u001b[0;31mUnboundLocalError\u001b[0m: local variable 'df' referenced before assignment"
     ]
    }
   ],
   "source": [
    "import sys\n",
    "import pandas as pd\n",
    "import matplotlib.pyplot as plt\n",
    "from PyQt5.QtWidgets import QApplication, QWidget, QLabel, QLineEdit, QPushButton, QVBoxLayout, QHBoxLayout, QTextEdit\n",
    "\n",
    "def process_command(command):\n",
    "    # Split the command into words\n",
    "    words = command.split()\n",
    "    \n",
    "    # Check the first word of the command\n",
    "    if words[0] == 'load':\n",
    "        # Load a CSV file\n",
    "        if len(words) < 2:\n",
    "            return 'Error: Please specify a CSV file to load'\n",
    "        try:\n",
    "            df = pd.read_csv(words[1])\n",
    "            return 'Success: CSV file loaded'\n",
    "        except:\n",
    "            return 'Error: Unable to load CSV file'\n",
    "    elif words[0] == 'show':\n",
    "        df = pd.read_csv(words[1])\n",
    "        return df\n",
    "    elif words[0] == 'plot':\n",
    "        # Plot a column from the loaded data\n",
    "        if len(words) < 3:\n",
    "            return 'Error: Please specify a column to plot'\n",
    "        if df is None:\n",
    "            return 'Error: No data loaded'\n",
    "        try:\n",
    "            df[words[1]].plot()\n",
    "            plt.show()\n",
    "            return 'Success: Plot generated'\n",
    "        except:\n",
    "            return 'Error: Unable to plot data'\n",
    "    else:\n",
    "        return 'Error: Unknown command'\n",
    "\n",
    "def on_enter_pressed():\n",
    "    # Get the command from the input field\n",
    "    command = input_field.text()\n",
    "    \n",
    "    # Clear the input field\n",
    "    input_field.clear()\n",
    "    \n",
    "    # Process the command and get the result\n",
    "    result = process_command(command)\n",
    "    \n",
    "    # Add the result to the output field\n",
    "    output_field.append(result)\n",
    "\n",
    "app = QApplication(sys.argv)\n",
    "window = QWidget()\n",
    "window.setWindowTitle('My PyQt Chatbot')\n",
    "window.setGeometry(100, 100, 500, 300)\n",
    "\n",
    "# Create the input and output fields\n",
    "input_field = QLineEdit(parent=window)\n",
    "output_field = QTextEdit(parent=window)\n",
    "output_field.setReadOnly(True)\n",
    "\n",
    "# Create the \"Enter\" button\n",
    "enter_button = QPushButton('Enter', parent=window)\n",
    "enter_button.clicked.connect(on_enter_pressed)\n",
    "\n",
    "# Create the layout\n",
    "layout = QVBoxLayout(window)\n",
    "input_layout = QHBoxLayout()\n",
    "input_layout.addWidget(input_field)\n",
    "input_layout.addWidget(enter_button)\n",
    "layout.addLayout(input_layout)\n",
    "layout.addWidget(output_field)\n",
    "\n",
    "window.show()\n",
    "sys.exit(app.exec_())\n"
   ]
  },
  {
   "cell_type": "code",
   "execution_count": 1,
   "metadata": {},
   "outputs": [
    {
     "name": "stdout",
     "output_type": "stream",
     "text": [
      "Requirement already satisfied: matplotlib in ./venv/lib/python3.10/site-packages (3.6.2)\n",
      "Requirement already satisfied: contourpy>=1.0.1 in ./venv/lib/python3.10/site-packages (from matplotlib) (1.0.6)\n",
      "Requirement already satisfied: numpy>=1.19 in ./venv/lib/python3.10/site-packages (from matplotlib) (1.23.5)\n",
      "Requirement already satisfied: fonttools>=4.22.0 in ./venv/lib/python3.10/site-packages (from matplotlib) (4.38.0)\n",
      "Requirement already satisfied: packaging>=20.0 in ./venv/lib/python3.10/site-packages (from matplotlib) (22.0)\n",
      "Requirement already satisfied: pillow>=6.2.0 in ./venv/lib/python3.10/site-packages (from matplotlib) (9.3.0)\n",
      "Requirement already satisfied: kiwisolver>=1.0.1 in ./venv/lib/python3.10/site-packages (from matplotlib) (1.4.4)\n",
      "Requirement already satisfied: cycler>=0.10 in ./venv/lib/python3.10/site-packages (from matplotlib) (0.11.0)\n",
      "Requirement already satisfied: pyparsing>=2.2.1 in ./venv/lib/python3.10/site-packages (from matplotlib) (3.0.9)\n",
      "Requirement already satisfied: python-dateutil>=2.7 in ./venv/lib/python3.10/site-packages (from matplotlib) (2.8.2)\n",
      "Requirement already satisfied: six>=1.5 in ./venv/lib/python3.10/site-packages (from python-dateutil>=2.7->matplotlib) (1.16.0)\n",
      "\n",
      "\u001b[1m[\u001b[0m\u001b[34;49mnotice\u001b[0m\u001b[1;39;49m]\u001b[0m\u001b[39;49m A new release of pip available: \u001b[0m\u001b[31;49m22.2.2\u001b[0m\u001b[39;49m -> \u001b[0m\u001b[32;49m22.3.1\u001b[0m\n",
      "\u001b[1m[\u001b[0m\u001b[34;49mnotice\u001b[0m\u001b[1;39;49m]\u001b[0m\u001b[39;49m To update, run: \u001b[0m\u001b[32;49mpip install --upgrade pip\u001b[0m\n"
     ]
    }
   ],
   "source": [
    "!pip install matplotlib"
   ]
  },
  {
   "cell_type": "code",
   "execution_count": null,
   "metadata": {},
   "outputs": [],
   "source": []
  }
 ],
 "metadata": {
  "kernelspec": {
   "display_name": "Python 3.10.6 ('venv': venv)",
   "language": "python",
   "name": "python3"
  },
  "language_info": {
   "codemirror_mode": {
    "name": "ipython",
    "version": 3
   },
   "file_extension": ".py",
   "mimetype": "text/x-python",
   "name": "python",
   "nbconvert_exporter": "python",
   "pygments_lexer": "ipython3",
   "version": "3.10.6"
  },
  "orig_nbformat": 4,
  "vscode": {
   "interpreter": {
    "hash": "0a3a1b37b87a5fdd6d1b5a44a1d7b1c5f5f033e620b2eed4bf551df5e08dd618"
   }
  }
 },
 "nbformat": 4,
 "nbformat_minor": 2
}
